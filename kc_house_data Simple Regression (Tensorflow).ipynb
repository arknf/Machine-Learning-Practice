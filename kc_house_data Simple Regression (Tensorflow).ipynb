{
 "cells": [
  {
   "cell_type": "code",
   "execution_count": 1,
   "metadata": {},
   "outputs": [],
   "source": [
    "import pandas as pd\n",
    "import numpy as np\n",
    "from tensorflow.keras import Sequential\n",
    "from tensorflow.keras.layers import Dense\n",
    "from tensorflow.keras.callbacks import EarlyStopping"
   ]
  },
  {
   "cell_type": "code",
   "execution_count": 2,
   "metadata": {},
   "outputs": [],
   "source": [
    "df = pd.read_csv('./Dataset/kc_house_data.csv')"
   ]
  },
  {
   "cell_type": "code",
   "execution_count": 3,
   "metadata": {
    "scrolled": false
   },
   "outputs": [
    {
     "data": {
      "text/html": [
       "<div>\n",
       "<style scoped>\n",
       "    .dataframe tbody tr th:only-of-type {\n",
       "        vertical-align: middle;\n",
       "    }\n",
       "\n",
       "    .dataframe tbody tr th {\n",
       "        vertical-align: top;\n",
       "    }\n",
       "\n",
       "    .dataframe thead th {\n",
       "        text-align: right;\n",
       "    }\n",
       "</style>\n",
       "<table border=\"1\" class=\"dataframe\">\n",
       "  <thead>\n",
       "    <tr style=\"text-align: right;\">\n",
       "      <th></th>\n",
       "      <th>id</th>\n",
       "      <th>date</th>\n",
       "      <th>price</th>\n",
       "      <th>bedrooms</th>\n",
       "      <th>bathrooms</th>\n",
       "      <th>sqft_living</th>\n",
       "      <th>sqft_lot</th>\n",
       "      <th>floors</th>\n",
       "      <th>waterfront</th>\n",
       "      <th>view</th>\n",
       "      <th>...</th>\n",
       "      <th>grade</th>\n",
       "      <th>sqft_above</th>\n",
       "      <th>sqft_basement</th>\n",
       "      <th>yr_built</th>\n",
       "      <th>yr_renovated</th>\n",
       "      <th>zipcode</th>\n",
       "      <th>lat</th>\n",
       "      <th>long</th>\n",
       "      <th>sqft_living15</th>\n",
       "      <th>sqft_lot15</th>\n",
       "    </tr>\n",
       "  </thead>\n",
       "  <tbody>\n",
       "    <tr>\n",
       "      <th>0</th>\n",
       "      <td>7129300520</td>\n",
       "      <td>20141013T000000</td>\n",
       "      <td>221900.0</td>\n",
       "      <td>3</td>\n",
       "      <td>1.00</td>\n",
       "      <td>1180</td>\n",
       "      <td>5650</td>\n",
       "      <td>1.0</td>\n",
       "      <td>0</td>\n",
       "      <td>0</td>\n",
       "      <td>...</td>\n",
       "      <td>7</td>\n",
       "      <td>1180</td>\n",
       "      <td>0</td>\n",
       "      <td>1955</td>\n",
       "      <td>0</td>\n",
       "      <td>98178</td>\n",
       "      <td>47.5112</td>\n",
       "      <td>-122.257</td>\n",
       "      <td>1340</td>\n",
       "      <td>5650</td>\n",
       "    </tr>\n",
       "    <tr>\n",
       "      <th>1</th>\n",
       "      <td>6414100192</td>\n",
       "      <td>20141209T000000</td>\n",
       "      <td>538000.0</td>\n",
       "      <td>3</td>\n",
       "      <td>2.25</td>\n",
       "      <td>2570</td>\n",
       "      <td>7242</td>\n",
       "      <td>2.0</td>\n",
       "      <td>0</td>\n",
       "      <td>0</td>\n",
       "      <td>...</td>\n",
       "      <td>7</td>\n",
       "      <td>2170</td>\n",
       "      <td>400</td>\n",
       "      <td>1951</td>\n",
       "      <td>1991</td>\n",
       "      <td>98125</td>\n",
       "      <td>47.7210</td>\n",
       "      <td>-122.319</td>\n",
       "      <td>1690</td>\n",
       "      <td>7639</td>\n",
       "    </tr>\n",
       "    <tr>\n",
       "      <th>2</th>\n",
       "      <td>5631500400</td>\n",
       "      <td>20150225T000000</td>\n",
       "      <td>180000.0</td>\n",
       "      <td>2</td>\n",
       "      <td>1.00</td>\n",
       "      <td>770</td>\n",
       "      <td>10000</td>\n",
       "      <td>1.0</td>\n",
       "      <td>0</td>\n",
       "      <td>0</td>\n",
       "      <td>...</td>\n",
       "      <td>6</td>\n",
       "      <td>770</td>\n",
       "      <td>0</td>\n",
       "      <td>1933</td>\n",
       "      <td>0</td>\n",
       "      <td>98028</td>\n",
       "      <td>47.7379</td>\n",
       "      <td>-122.233</td>\n",
       "      <td>2720</td>\n",
       "      <td>8062</td>\n",
       "    </tr>\n",
       "    <tr>\n",
       "      <th>3</th>\n",
       "      <td>2487200875</td>\n",
       "      <td>20141209T000000</td>\n",
       "      <td>604000.0</td>\n",
       "      <td>4</td>\n",
       "      <td>3.00</td>\n",
       "      <td>1960</td>\n",
       "      <td>5000</td>\n",
       "      <td>1.0</td>\n",
       "      <td>0</td>\n",
       "      <td>0</td>\n",
       "      <td>...</td>\n",
       "      <td>7</td>\n",
       "      <td>1050</td>\n",
       "      <td>910</td>\n",
       "      <td>1965</td>\n",
       "      <td>0</td>\n",
       "      <td>98136</td>\n",
       "      <td>47.5208</td>\n",
       "      <td>-122.393</td>\n",
       "      <td>1360</td>\n",
       "      <td>5000</td>\n",
       "    </tr>\n",
       "    <tr>\n",
       "      <th>4</th>\n",
       "      <td>1954400510</td>\n",
       "      <td>20150218T000000</td>\n",
       "      <td>510000.0</td>\n",
       "      <td>3</td>\n",
       "      <td>2.00</td>\n",
       "      <td>1680</td>\n",
       "      <td>8080</td>\n",
       "      <td>1.0</td>\n",
       "      <td>0</td>\n",
       "      <td>0</td>\n",
       "      <td>...</td>\n",
       "      <td>8</td>\n",
       "      <td>1680</td>\n",
       "      <td>0</td>\n",
       "      <td>1987</td>\n",
       "      <td>0</td>\n",
       "      <td>98074</td>\n",
       "      <td>47.6168</td>\n",
       "      <td>-122.045</td>\n",
       "      <td>1800</td>\n",
       "      <td>7503</td>\n",
       "    </tr>\n",
       "    <tr>\n",
       "      <th>...</th>\n",
       "      <td>...</td>\n",
       "      <td>...</td>\n",
       "      <td>...</td>\n",
       "      <td>...</td>\n",
       "      <td>...</td>\n",
       "      <td>...</td>\n",
       "      <td>...</td>\n",
       "      <td>...</td>\n",
       "      <td>...</td>\n",
       "      <td>...</td>\n",
       "      <td>...</td>\n",
       "      <td>...</td>\n",
       "      <td>...</td>\n",
       "      <td>...</td>\n",
       "      <td>...</td>\n",
       "      <td>...</td>\n",
       "      <td>...</td>\n",
       "      <td>...</td>\n",
       "      <td>...</td>\n",
       "      <td>...</td>\n",
       "      <td>...</td>\n",
       "    </tr>\n",
       "    <tr>\n",
       "      <th>21608</th>\n",
       "      <td>263000018</td>\n",
       "      <td>20140521T000000</td>\n",
       "      <td>360000.0</td>\n",
       "      <td>3</td>\n",
       "      <td>2.50</td>\n",
       "      <td>1530</td>\n",
       "      <td>1131</td>\n",
       "      <td>3.0</td>\n",
       "      <td>0</td>\n",
       "      <td>0</td>\n",
       "      <td>...</td>\n",
       "      <td>8</td>\n",
       "      <td>1530</td>\n",
       "      <td>0</td>\n",
       "      <td>2009</td>\n",
       "      <td>0</td>\n",
       "      <td>98103</td>\n",
       "      <td>47.6993</td>\n",
       "      <td>-122.346</td>\n",
       "      <td>1530</td>\n",
       "      <td>1509</td>\n",
       "    </tr>\n",
       "    <tr>\n",
       "      <th>21609</th>\n",
       "      <td>6600060120</td>\n",
       "      <td>20150223T000000</td>\n",
       "      <td>400000.0</td>\n",
       "      <td>4</td>\n",
       "      <td>2.50</td>\n",
       "      <td>2310</td>\n",
       "      <td>5813</td>\n",
       "      <td>2.0</td>\n",
       "      <td>0</td>\n",
       "      <td>0</td>\n",
       "      <td>...</td>\n",
       "      <td>8</td>\n",
       "      <td>2310</td>\n",
       "      <td>0</td>\n",
       "      <td>2014</td>\n",
       "      <td>0</td>\n",
       "      <td>98146</td>\n",
       "      <td>47.5107</td>\n",
       "      <td>-122.362</td>\n",
       "      <td>1830</td>\n",
       "      <td>7200</td>\n",
       "    </tr>\n",
       "    <tr>\n",
       "      <th>21610</th>\n",
       "      <td>1523300141</td>\n",
       "      <td>20140623T000000</td>\n",
       "      <td>402101.0</td>\n",
       "      <td>2</td>\n",
       "      <td>0.75</td>\n",
       "      <td>1020</td>\n",
       "      <td>1350</td>\n",
       "      <td>2.0</td>\n",
       "      <td>0</td>\n",
       "      <td>0</td>\n",
       "      <td>...</td>\n",
       "      <td>7</td>\n",
       "      <td>1020</td>\n",
       "      <td>0</td>\n",
       "      <td>2009</td>\n",
       "      <td>0</td>\n",
       "      <td>98144</td>\n",
       "      <td>47.5944</td>\n",
       "      <td>-122.299</td>\n",
       "      <td>1020</td>\n",
       "      <td>2007</td>\n",
       "    </tr>\n",
       "    <tr>\n",
       "      <th>21611</th>\n",
       "      <td>291310100</td>\n",
       "      <td>20150116T000000</td>\n",
       "      <td>400000.0</td>\n",
       "      <td>3</td>\n",
       "      <td>2.50</td>\n",
       "      <td>1600</td>\n",
       "      <td>2388</td>\n",
       "      <td>2.0</td>\n",
       "      <td>0</td>\n",
       "      <td>0</td>\n",
       "      <td>...</td>\n",
       "      <td>8</td>\n",
       "      <td>1600</td>\n",
       "      <td>0</td>\n",
       "      <td>2004</td>\n",
       "      <td>0</td>\n",
       "      <td>98027</td>\n",
       "      <td>47.5345</td>\n",
       "      <td>-122.069</td>\n",
       "      <td>1410</td>\n",
       "      <td>1287</td>\n",
       "    </tr>\n",
       "    <tr>\n",
       "      <th>21612</th>\n",
       "      <td>1523300157</td>\n",
       "      <td>20141015T000000</td>\n",
       "      <td>325000.0</td>\n",
       "      <td>2</td>\n",
       "      <td>0.75</td>\n",
       "      <td>1020</td>\n",
       "      <td>1076</td>\n",
       "      <td>2.0</td>\n",
       "      <td>0</td>\n",
       "      <td>0</td>\n",
       "      <td>...</td>\n",
       "      <td>7</td>\n",
       "      <td>1020</td>\n",
       "      <td>0</td>\n",
       "      <td>2008</td>\n",
       "      <td>0</td>\n",
       "      <td>98144</td>\n",
       "      <td>47.5941</td>\n",
       "      <td>-122.299</td>\n",
       "      <td>1020</td>\n",
       "      <td>1357</td>\n",
       "    </tr>\n",
       "  </tbody>\n",
       "</table>\n",
       "<p>21613 rows × 21 columns</p>\n",
       "</div>"
      ],
      "text/plain": [
       "               id             date     price  bedrooms  bathrooms  \\\n",
       "0      7129300520  20141013T000000  221900.0         3       1.00   \n",
       "1      6414100192  20141209T000000  538000.0         3       2.25   \n",
       "2      5631500400  20150225T000000  180000.0         2       1.00   \n",
       "3      2487200875  20141209T000000  604000.0         4       3.00   \n",
       "4      1954400510  20150218T000000  510000.0         3       2.00   \n",
       "...           ...              ...       ...       ...        ...   \n",
       "21608   263000018  20140521T000000  360000.0         3       2.50   \n",
       "21609  6600060120  20150223T000000  400000.0         4       2.50   \n",
       "21610  1523300141  20140623T000000  402101.0         2       0.75   \n",
       "21611   291310100  20150116T000000  400000.0         3       2.50   \n",
       "21612  1523300157  20141015T000000  325000.0         2       0.75   \n",
       "\n",
       "       sqft_living  sqft_lot  floors  waterfront  view  ...  grade  \\\n",
       "0             1180      5650     1.0           0     0  ...      7   \n",
       "1             2570      7242     2.0           0     0  ...      7   \n",
       "2              770     10000     1.0           0     0  ...      6   \n",
       "3             1960      5000     1.0           0     0  ...      7   \n",
       "4             1680      8080     1.0           0     0  ...      8   \n",
       "...            ...       ...     ...         ...   ...  ...    ...   \n",
       "21608         1530      1131     3.0           0     0  ...      8   \n",
       "21609         2310      5813     2.0           0     0  ...      8   \n",
       "21610         1020      1350     2.0           0     0  ...      7   \n",
       "21611         1600      2388     2.0           0     0  ...      8   \n",
       "21612         1020      1076     2.0           0     0  ...      7   \n",
       "\n",
       "       sqft_above  sqft_basement  yr_built  yr_renovated  zipcode      lat  \\\n",
       "0            1180              0      1955             0    98178  47.5112   \n",
       "1            2170            400      1951          1991    98125  47.7210   \n",
       "2             770              0      1933             0    98028  47.7379   \n",
       "3            1050            910      1965             0    98136  47.5208   \n",
       "4            1680              0      1987             0    98074  47.6168   \n",
       "...           ...            ...       ...           ...      ...      ...   \n",
       "21608        1530              0      2009             0    98103  47.6993   \n",
       "21609        2310              0      2014             0    98146  47.5107   \n",
       "21610        1020              0      2009             0    98144  47.5944   \n",
       "21611        1600              0      2004             0    98027  47.5345   \n",
       "21612        1020              0      2008             0    98144  47.5941   \n",
       "\n",
       "          long  sqft_living15  sqft_lot15  \n",
       "0     -122.257           1340        5650  \n",
       "1     -122.319           1690        7639  \n",
       "2     -122.233           2720        8062  \n",
       "3     -122.393           1360        5000  \n",
       "4     -122.045           1800        7503  \n",
       "...        ...            ...         ...  \n",
       "21608 -122.346           1530        1509  \n",
       "21609 -122.362           1830        7200  \n",
       "21610 -122.299           1020        2007  \n",
       "21611 -122.069           1410        1287  \n",
       "21612 -122.299           1020        1357  \n",
       "\n",
       "[21613 rows x 21 columns]"
      ]
     },
     "execution_count": 3,
     "metadata": {},
     "output_type": "execute_result"
    }
   ],
   "source": [
    "df"
   ]
  },
  {
   "cell_type": "code",
   "execution_count": 4,
   "metadata": {},
   "outputs": [
    {
     "data": {
      "text/plain": [
       "id                 int64\n",
       "date              object\n",
       "price            float64\n",
       "bedrooms           int64\n",
       "bathrooms        float64\n",
       "sqft_living        int64\n",
       "sqft_lot           int64\n",
       "floors           float64\n",
       "waterfront         int64\n",
       "view               int64\n",
       "condition          int64\n",
       "grade              int64\n",
       "sqft_above         int64\n",
       "sqft_basement      int64\n",
       "yr_built           int64\n",
       "yr_renovated       int64\n",
       "zipcode            int64\n",
       "lat              float64\n",
       "long             float64\n",
       "sqft_living15      int64\n",
       "sqft_lot15         int64\n",
       "dtype: object"
      ]
     },
     "execution_count": 4,
     "metadata": {},
     "output_type": "execute_result"
    }
   ],
   "source": [
    "df.dtypes"
   ]
  },
  {
   "cell_type": "code",
   "execution_count": 5,
   "metadata": {},
   "outputs": [],
   "source": [
    "df = df.drop(['date','id','zipcode','yr_renovated','view','lat','long'],axis=1)"
   ]
  },
  {
   "cell_type": "code",
   "execution_count": 6,
   "metadata": {},
   "outputs": [
    {
     "data": {
      "text/plain": [
       "Index(['price', 'bedrooms', 'bathrooms', 'sqft_living', 'sqft_lot', 'floors',\n",
       "       'waterfront', 'condition', 'grade', 'sqft_above', 'sqft_basement',\n",
       "       'yr_built', 'sqft_living15', 'sqft_lot15'],\n",
       "      dtype='object')"
      ]
     },
     "execution_count": 6,
     "metadata": {},
     "output_type": "execute_result"
    }
   ],
   "source": [
    "df.columns"
   ]
  },
  {
   "cell_type": "code",
   "execution_count": 7,
   "metadata": {},
   "outputs": [
    {
     "data": {
      "text/plain": [
       "False"
      ]
     },
     "execution_count": 7,
     "metadata": {},
     "output_type": "execute_result"
    }
   ],
   "source": [
    "df.isna().values.any()"
   ]
  },
  {
   "cell_type": "code",
   "execution_count": 8,
   "metadata": {},
   "outputs": [
    {
     "name": "stderr",
     "output_type": "stream",
     "text": [
      "C:\\ProgramData\\Anaconda3\\lib\\site-packages\\seaborn\\_decorators.py:36: FutureWarning: Pass the following variable as a keyword arg: x. From version 0.12, the only valid positional argument will be `data`, and passing other arguments without an explicit keyword will result in an error or misinterpretation.\n",
      "  warnings.warn(\n"
     ]
    },
    {
     "data": {
      "image/png": "[encoded data removed]",
      "text/plain": [
       "<Figure size 432x288 with 1 Axes>"
      ]
     },
     "metadata": {
      "needs_background": "light"
     },
     "output_type": "display_data"
    }
   ],
   "source": [
    "import seaborn as sns\n",
    "import matplotlib.pyplot as plt\n",
    "sns.boxplot(df['price'])\n",
    "plt.grid()"
   ]
  },
  {
   "cell_type": "code",
   "execution_count": 9,
   "metadata": {},
   "outputs": [],
   "source": [
    "df = df[df['price'] <= 1000000]"
   ]
  },
  {
   "cell_type": "code",
   "execution_count": 10,
   "metadata": {},
   "outputs": [],
   "source": [
    "X = df.drop(['price'],axis=1)\n",
    "y = df.price"
   ]
  },
  {
   "cell_type": "code",
   "execution_count": 34,
   "metadata": {
    "scrolled": true
   },
   "outputs": [
    {
     "data": {
      "text/plain": [
       "Index(['bedrooms', 'bathrooms', 'sqft_living', 'sqft_lot', 'floors',\n",
       "       'waterfront', 'condition', 'grade', 'sqft_above', 'sqft_basement',\n",
       "       'yr_built', 'sqft_living15', 'sqft_lot15'],\n",
       "      dtype='object')"
      ]
     },
     "execution_count": 34,
     "metadata": {},
     "output_type": "execute_result"
    }
   ],
   "source": [
    "X.columns"
   ]
  },
  {
   "cell_type": "code",
   "execution_count": 11,
   "metadata": {},
   "outputs": [],
   "source": [
    "from sklearn.model_selection import train_test_split\n",
    "X_train, X_test, y_train, y_test = train_test_split(X, y, test_size=0.25, shuffle=False)"
   ]
  },
  {
   "cell_type": "code",
   "execution_count": 12,
   "metadata": {},
   "outputs": [],
   "source": [
    "from sklearn.preprocessing import StandardScaler\n",
    "scaler = StandardScaler()\n",
    "X_train = scaler.fit_transform(X_train)\n",
    "X_test = scaler.fit_transform(X_test)"
   ]
  },
  {
   "cell_type": "code",
   "execution_count": 13,
   "metadata": {},
   "outputs": [
    {
     "data": {
      "text/plain": [
       "13"
      ]
     },
     "execution_count": 13,
     "metadata": {},
     "output_type": "execute_result"
    }
   ],
   "source": [
    "n_features = X_train.shape[1]\n",
    "n_features"
   ]
  },
  {
   "cell_type": "code",
   "execution_count": 14,
   "metadata": {},
   "outputs": [],
   "source": [
    "# define model\n",
    "model = Sequential()\n",
    "model.add(Dense(64, activation='relu', input_shape=(n_features,)))\n",
    "model.add(Dense(64, activation='relu'))\n",
    "model.add(Dense(64, activation='relu'))\n",
    "model.add(Dense(1))"
   ]
  },
  {
   "cell_type": "code",
   "execution_count": 15,
   "metadata": {},
   "outputs": [],
   "source": [
    "# compile the model\n",
    "model.compile(optimizer='adam', loss='mae')"
   ]
  },
  {
   "cell_type": "code",
   "execution_count": 16,
   "metadata": {
    "scrolled": false
   },
   "outputs": [
    {
     "name": "stdout",
     "output_type": "stream",
     "text": [
      "Epoch 1/100\n",
      "152/152 - 1s - loss: 463175.6250 - val_loss: 477516.7812 - 696ms/epoch - 5ms/step\n",
      "Epoch 2/100\n",
      "152/152 - 0s - loss: 443025.9688 - val_loss: 421485.9688 - 232ms/epoch - 2ms/step\n",
      "Epoch 3/100\n",
      "152/152 - 0s - loss: 319390.9062 - val_loss: 255193.2969 - 232ms/epoch - 2ms/step\n",
      "Epoch 4/100\n",
      "152/152 - 0s - loss: 199965.5000 - val_loss: 195136.8906 - 232ms/epoch - 2ms/step\n",
      "Epoch 5/100\n",
      "152/152 - 0s - loss: 175590.0938 - val_loss: 178832.1250 - 231ms/epoch - 2ms/step\n",
      "Epoch 6/100\n",
      "152/152 - 0s - loss: 160580.3906 - val_loss: 162801.7188 - 235ms/epoch - 2ms/step\n",
      "Epoch 7/100\n",
      "152/152 - 0s - loss: 147271.8125 - val_loss: 148774.8594 - 243ms/epoch - 2ms/step\n",
      "Epoch 8/100\n",
      "152/152 - 0s - loss: 134851.7188 - val_loss: 135892.0469 - 235ms/epoch - 2ms/step\n",
      "Epoch 9/100\n",
      "152/152 - 0s - loss: 124053.1172 - val_loss: 125396.1016 - 234ms/epoch - 2ms/step\n",
      "Epoch 10/100\n",
      "152/152 - 0s - loss: 116010.6250 - val_loss: 118615.3125 - 233ms/epoch - 2ms/step\n",
      "Epoch 11/100\n",
      "152/152 - 0s - loss: 111397.0703 - val_loss: 114219.5703 - 238ms/epoch - 2ms/step\n",
      "Epoch 12/100\n",
      "152/152 - 0s - loss: 108714.2031 - val_loss: 112775.0625 - 225ms/epoch - 1ms/step\n",
      "Epoch 13/100\n",
      "152/152 - 0s - loss: 106951.7656 - val_loss: 110587.2578 - 231ms/epoch - 2ms/step\n",
      "Epoch 14/100\n",
      "152/152 - 0s - loss: 105673.7422 - val_loss: 109233.7188 - 228ms/epoch - 1ms/step\n",
      "Epoch 15/100\n",
      "152/152 - 0s - loss: 104695.6328 - val_loss: 107976.7812 - 229ms/epoch - 2ms/step\n",
      "Epoch 16/100\n",
      "152/152 - 0s - loss: 103916.2734 - val_loss: 107240.8984 - 231ms/epoch - 2ms/step\n",
      "Epoch 17/100\n",
      "152/152 - 0s - loss: 103330.5469 - val_loss: 106409.2969 - 233ms/epoch - 2ms/step\n",
      "Epoch 18/100\n",
      "152/152 - 0s - loss: 102852.2891 - val_loss: 106308.6562 - 235ms/epoch - 2ms/step\n",
      "Epoch 19/100\n",
      "152/152 - 0s - loss: 102443.9297 - val_loss: 105613.7969 - 233ms/epoch - 2ms/step\n",
      "Epoch 20/100\n",
      "152/152 - 0s - loss: 102056.6484 - val_loss: 104577.9219 - 226ms/epoch - 1ms/step\n",
      "Epoch 21/100\n",
      "152/152 - 0s - loss: 101787.0469 - val_loss: 104155.7344 - 229ms/epoch - 2ms/step\n",
      "Epoch 22/100\n",
      "152/152 - 0s - loss: 101551.3359 - val_loss: 103946.9922 - 232ms/epoch - 2ms/step\n",
      "Epoch 23/100\n",
      "152/152 - 0s - loss: 101286.1250 - val_loss: 103849.3984 - 229ms/epoch - 2ms/step\n",
      "Epoch 24/100\n",
      "152/152 - 0s - loss: 101077.4453 - val_loss: 103493.1875 - 230ms/epoch - 2ms/step\n",
      "Epoch 25/100\n",
      "152/152 - 0s - loss: 100858.0469 - val_loss: 103307.4297 - 228ms/epoch - 1ms/step\n",
      "Epoch 26/100\n",
      "152/152 - 0s - loss: 100719.1328 - val_loss: 102735.3125 - 227ms/epoch - 1ms/step\n",
      "Epoch 27/100\n",
      "152/152 - 0s - loss: 100566.5391 - val_loss: 102586.2969 - 249ms/epoch - 2ms/step\n",
      "Epoch 28/100\n",
      "152/152 - 0s - loss: 100432.0703 - val_loss: 102786.8047 - 295ms/epoch - 2ms/step\n",
      "Epoch 29/100\n",
      "152/152 - 0s - loss: 100336.5234 - val_loss: 102655.2656 - 235ms/epoch - 2ms/step\n",
      "Epoch 30/100\n",
      "152/152 - 0s - loss: 100195.5859 - val_loss: 102264.0000 - 235ms/epoch - 2ms/step\n",
      "Epoch 31/100\n",
      "152/152 - 0s - loss: 100073.4219 - val_loss: 102718.1328 - 254ms/epoch - 2ms/step\n",
      "Epoch 32/100\n",
      "152/152 - 0s - loss: 100010.0703 - val_loss: 101922.8906 - 242ms/epoch - 2ms/step\n",
      "Epoch 33/100\n",
      "152/152 - 0s - loss: 99960.4844 - val_loss: 102106.8750 - 247ms/epoch - 2ms/step\n",
      "Epoch 34/100\n",
      "152/152 - 0s - loss: 99845.3516 - val_loss: 102012.0078 - 239ms/epoch - 2ms/step\n",
      "Epoch 35/100\n",
      "152/152 - 0s - loss: 99808.8047 - val_loss: 101954.3906 - 260ms/epoch - 2ms/step\n",
      "Epoch 36/100\n",
      "152/152 - 0s - loss: 99698.8125 - val_loss: 102096.6172 - 266ms/epoch - 2ms/step\n",
      "Epoch 37/100\n",
      "152/152 - 0s - loss: 99669.9141 - val_loss: 101479.0781 - 221ms/epoch - 1ms/step\n",
      "Epoch 38/100\n",
      "152/152 - 0s - loss: 99562.4844 - val_loss: 102153.5078 - 251ms/epoch - 2ms/step\n",
      "Epoch 39/100\n",
      "152/152 - 0s - loss: 99554.6406 - val_loss: 101107.0469 - 241ms/epoch - 2ms/step\n",
      "Epoch 40/100\n",
      "152/152 - 0s - loss: 99437.7578 - val_loss: 101504.8984 - 284ms/epoch - 2ms/step\n",
      "Epoch 41/100\n",
      "152/152 - 0s - loss: 99403.1172 - val_loss: 101185.8594 - 233ms/epoch - 2ms/step\n",
      "Epoch 42/100\n",
      "152/152 - 0s - loss: 99337.4609 - val_loss: 101381.1328 - 230ms/epoch - 2ms/step\n",
      "Epoch 43/100\n",
      "152/152 - 0s - loss: 99270.3203 - val_loss: 101076.6797 - 228ms/epoch - 1ms/step\n",
      "Epoch 44/100\n",
      "152/152 - 0s - loss: 99200.5156 - val_loss: 100768.4609 - 256ms/epoch - 2ms/step\n",
      "Epoch 45/100\n",
      "152/152 - 0s - loss: 99183.5156 - val_loss: 101472.0938 - 252ms/epoch - 2ms/step\n",
      "Epoch 46/100\n",
      "152/152 - 0s - loss: 99148.1562 - val_loss: 101037.6406 - 237ms/epoch - 2ms/step\n",
      "Epoch 47/100\n",
      "152/152 - 0s - loss: 99075.0938 - val_loss: 100478.2656 - 243ms/epoch - 2ms/step\n",
      "Epoch 48/100\n",
      "152/152 - 0s - loss: 99062.0234 - val_loss: 100789.9141 - 237ms/epoch - 2ms/step\n",
      "Epoch 49/100\n",
      "152/152 - 0s - loss: 98972.7578 - val_loss: 100968.3594 - 255ms/epoch - 2ms/step\n",
      "Epoch 50/100\n",
      "152/152 - 0s - loss: 98908.9453 - val_loss: 100575.3047 - 250ms/epoch - 2ms/step\n",
      "Epoch 51/100\n",
      "152/152 - 0s - loss: 98851.6250 - val_loss: 100433.7656 - 226ms/epoch - 1ms/step\n",
      "Epoch 52/100\n",
      "152/152 - 0s - loss: 98827.4922 - val_loss: 100830.1484 - 226ms/epoch - 1ms/step\n",
      "Epoch 53/100\n",
      "152/152 - 0s - loss: 98789.9766 - val_loss: 100371.2969 - 236ms/epoch - 2ms/step\n",
      "Epoch 54/100\n",
      "152/152 - 0s - loss: 98730.3125 - val_loss: 100209.1094 - 242ms/epoch - 2ms/step\n",
      "Epoch 55/100\n",
      "152/152 - 0s - loss: 98705.6094 - val_loss: 99753.6562 - 230ms/epoch - 2ms/step\n",
      "Epoch 56/100\n",
      "152/152 - 0s - loss: 98653.6328 - val_loss: 100515.6094 - 250ms/epoch - 2ms/step\n",
      "Epoch 57/100\n",
      "152/152 - 0s - loss: 98527.2422 - val_loss: 100028.7500 - 234ms/epoch - 2ms/step\n",
      "Epoch 58/100\n",
      "152/152 - 0s - loss: 98504.5938 - val_loss: 100288.8672 - 264ms/epoch - 2ms/step\n",
      "Epoch 59/100\n",
      "152/152 - 0s - loss: 98459.0625 - val_loss: 100098.4297 - 232ms/epoch - 2ms/step\n",
      "Epoch 60/100\n",
      "152/152 - 0s - loss: 98411.3203 - val_loss: 99988.7109 - 228ms/epoch - 1ms/step\n",
      "Epoch 61/100\n",
      "152/152 - 0s - loss: 98338.1172 - val_loss: 99795.7578 - 330ms/epoch - 2ms/step\n",
      "Epoch 62/100\n",
      "152/152 - 0s - loss: 98325.1562 - val_loss: 99344.7656 - 272ms/epoch - 2ms/step\n",
      "Epoch 63/100\n",
      "152/152 - 0s - loss: 98277.3750 - val_loss: 99394.4688 - 236ms/epoch - 2ms/step\n",
      "Epoch 64/100\n",
      "152/152 - 0s - loss: 98206.2734 - val_loss: 99706.1562 - 242ms/epoch - 2ms/step\n",
      "Epoch 65/100\n",
      "152/152 - 0s - loss: 98140.1953 - val_loss: 100358.1172 - 301ms/epoch - 2ms/step\n",
      "Epoch 66/100\n",
      "152/152 - 0s - loss: 98130.9141 - val_loss: 99517.8516 - 262ms/epoch - 2ms/step\n",
      "Epoch 67/100\n",
      "152/152 - 0s - loss: 98077.6562 - val_loss: 99307.5000 - 241ms/epoch - 2ms/step\n",
      "Epoch 68/100\n",
      "152/152 - 0s - loss: 98038.8125 - val_loss: 99504.9922 - 249ms/epoch - 2ms/step\n",
      "Epoch 69/100\n",
      "152/152 - 0s - loss: 97986.0781 - val_loss: 99241.9922 - 232ms/epoch - 2ms/step\n",
      "Epoch 70/100\n",
      "152/152 - 0s - loss: 97989.7266 - val_loss: 99562.1016 - 226ms/epoch - 1ms/step\n",
      "Epoch 71/100\n",
      "152/152 - 0s - loss: 97896.9922 - val_loss: 99078.7266 - 227ms/epoch - 1ms/step\n",
      "Epoch 72/100\n",
      "152/152 - 0s - loss: 97854.6641 - val_loss: 99357.3203 - 227ms/epoch - 1ms/step\n",
      "Epoch 73/100\n",
      "152/152 - 0s - loss: 97812.3750 - val_loss: 99307.9766 - 230ms/epoch - 2ms/step\n",
      "Epoch 74/100\n",
      "152/152 - 0s - loss: 97796.7109 - val_loss: 99361.5859 - 232ms/epoch - 2ms/step\n",
      "Epoch 75/100\n",
      "152/152 - 0s - loss: 97744.6250 - val_loss: 98931.0312 - 237ms/epoch - 2ms/step\n",
      "Epoch 76/100\n",
      "152/152 - 0s - loss: 97738.5469 - val_loss: 99209.3594 - 233ms/epoch - 2ms/step\n",
      "Epoch 77/100\n",
      "152/152 - 0s - loss: 97672.6094 - val_loss: 98588.5156 - 243ms/epoch - 2ms/step\n",
      "Epoch 78/100\n",
      "152/152 - 0s - loss: 97591.1797 - val_loss: 98964.5547 - 245ms/epoch - 2ms/step\n",
      "Epoch 79/100\n",
      "152/152 - 0s - loss: 97604.8516 - val_loss: 98729.5703 - 247ms/epoch - 2ms/step\n",
      "Epoch 80/100\n",
      "152/152 - 0s - loss: 97593.8047 - val_loss: 98829.9141 - 244ms/epoch - 2ms/step\n",
      "Epoch 81/100\n",
      "152/152 - 0s - loss: 97542.2344 - val_loss: 99140.9141 - 236ms/epoch - 2ms/step\n",
      "Epoch 82/100\n",
      "152/152 - 0s - loss: 97486.4062 - val_loss: 99046.4375 - 230ms/epoch - 2ms/step\n",
      "Epoch 83/100\n",
      "152/152 - 0s - loss: 97454.5234 - val_loss: 98828.9531 - 231ms/epoch - 2ms/step\n",
      "Epoch 84/100\n",
      "152/152 - 0s - loss: 97417.4844 - val_loss: 98481.6797 - 237ms/epoch - 2ms/step\n",
      "Epoch 85/100\n",
      "152/152 - 0s - loss: 97407.3984 - val_loss: 98874.0078 - 261ms/epoch - 2ms/step\n",
      "Epoch 86/100\n",
      "152/152 - 0s - loss: 97380.1406 - val_loss: 99042.5391 - 237ms/epoch - 2ms/step\n",
      "Epoch 87/100\n",
      "152/152 - 0s - loss: 97413.1562 - val_loss: 98524.0156 - 231ms/epoch - 2ms/step\n",
      "Epoch 88/100\n",
      "152/152 - 0s - loss: 97305.7812 - val_loss: 98804.4688 - 238ms/epoch - 2ms/step\n"
     ]
    },
    {
     "name": "stdout",
     "output_type": "stream",
     "text": [
      "Epoch 89/100\n",
      "152/152 - 0s - loss: 97239.4531 - val_loss: 98924.4219 - 236ms/epoch - 2ms/step\n",
      "Epoch 90/100\n",
      "152/152 - 0s - loss: 97220.6562 - val_loss: 98349.5547 - 231ms/epoch - 2ms/step\n",
      "Epoch 91/100\n",
      "152/152 - 0s - loss: 97197.7734 - val_loss: 98715.8281 - 233ms/epoch - 2ms/step\n",
      "Epoch 92/100\n",
      "152/152 - 0s - loss: 97185.8672 - val_loss: 98336.3359 - 235ms/epoch - 2ms/step\n",
      "Epoch 93/100\n",
      "152/152 - 0s - loss: 97129.3125 - val_loss: 98457.1953 - 230ms/epoch - 2ms/step\n",
      "Epoch 94/100\n",
      "152/152 - 0s - loss: 97087.8828 - val_loss: 98459.1094 - 235ms/epoch - 2ms/step\n",
      "Epoch 95/100\n",
      "152/152 - 0s - loss: 97113.2969 - val_loss: 98375.6250 - 226ms/epoch - 1ms/step\n",
      "Epoch 96/100\n",
      "152/152 - 0s - loss: 97072.8438 - val_loss: 98593.7891 - 237ms/epoch - 2ms/step\n",
      "Epoch 97/100\n",
      "152/152 - 0s - loss: 97027.4375 - val_loss: 98091.2578 - 235ms/epoch - 2ms/step\n",
      "Epoch 98/100\n",
      "152/152 - 0s - loss: 96966.4062 - val_loss: 98863.7266 - 259ms/epoch - 2ms/step\n",
      "Epoch 99/100\n",
      "152/152 - 0s - loss: 96966.3828 - val_loss: 98197.8516 - 227ms/epoch - 1ms/step\n",
      "Epoch 100/100\n",
      "152/152 - 0s - loss: 96925.8906 - val_loss: 98345.4688 - 224ms/epoch - 1ms/step\n"
     ]
    },
    {
     "data": {
      "text/plain": [
       "<keras.callbacks.History at 0x191c97c10d0>"
      ]
     },
     "execution_count": 16,
     "metadata": {},
     "output_type": "execute_result"
    }
   ],
   "source": [
    "#define early_stopping to prevent overfitting\n",
    "early_stopping = EarlyStopping(monitor='val_loss', patience=10)\n",
    "\n",
    "# fit the model\n",
    "model.fit(X_train, \n",
    "          y_train, \n",
    "          batch_size = 100, \n",
    "          epochs = 100, \n",
    "          callbacks = [early_stopping],\n",
    "          validation_data = (X_test, y_test), \n",
    "          verbose=2)"
   ]
  },
  {
   "cell_type": "code",
   "execution_count": 17,
   "metadata": {},
   "outputs": [
    {
     "name": "stdout",
     "output_type": "stream",
     "text": [
      "MAE: 98345.500\n"
     ]
    }
   ],
   "source": [
    "# evaluate the model\n",
    "error = model.evaluate(X_test, y_test, verbose=0)\n",
    "print('MAE: %.3f' % (error))"
   ]
  },
  {
   "cell_type": "code",
   "execution_count": 18,
   "metadata": {},
   "outputs": [],
   "source": [
    "prediction = model.predict(X_test)"
   ]
  },
  {
   "cell_type": "code",
   "execution_count": 19,
   "metadata": {},
   "outputs": [
    {
     "data": {
      "text/html": [
       "<div>\n",
       "<style scoped>\n",
       "    .dataframe tbody tr th:only-of-type {\n",
       "        vertical-align: middle;\n",
       "    }\n",
       "\n",
       "    .dataframe tbody tr th {\n",
       "        vertical-align: top;\n",
       "    }\n",
       "\n",
       "    .dataframe thead th {\n",
       "        text-align: right;\n",
       "    }\n",
       "</style>\n",
       "<table border=\"1\" class=\"dataframe\">\n",
       "  <thead>\n",
       "    <tr style=\"text-align: right;\">\n",
       "      <th></th>\n",
       "      <th>price</th>\n",
       "    </tr>\n",
       "  </thead>\n",
       "  <tbody>\n",
       "    <tr>\n",
       "      <th>0</th>\n",
       "      <td>450500.0</td>\n",
       "    </tr>\n",
       "    <tr>\n",
       "      <th>1</th>\n",
       "      <td>915000.0</td>\n",
       "    </tr>\n",
       "    <tr>\n",
       "      <th>2</th>\n",
       "      <td>205000.0</td>\n",
       "    </tr>\n",
       "    <tr>\n",
       "      <th>3</th>\n",
       "      <td>314000.0</td>\n",
       "    </tr>\n",
       "    <tr>\n",
       "      <th>4</th>\n",
       "      <td>496000.0</td>\n",
       "    </tr>\n",
       "    <tr>\n",
       "      <th>...</th>\n",
       "      <td>...</td>\n",
       "    </tr>\n",
       "    <tr>\n",
       "      <th>5032</th>\n",
       "      <td>360000.0</td>\n",
       "    </tr>\n",
       "    <tr>\n",
       "      <th>5033</th>\n",
       "      <td>400000.0</td>\n",
       "    </tr>\n",
       "    <tr>\n",
       "      <th>5034</th>\n",
       "      <td>402101.0</td>\n",
       "    </tr>\n",
       "    <tr>\n",
       "      <th>5035</th>\n",
       "      <td>400000.0</td>\n",
       "    </tr>\n",
       "    <tr>\n",
       "      <th>5036</th>\n",
       "      <td>325000.0</td>\n",
       "    </tr>\n",
       "  </tbody>\n",
       "</table>\n",
       "<p>5037 rows × 1 columns</p>\n",
       "</div>"
      ],
      "text/plain": [
       "         price\n",
       "0     450500.0\n",
       "1     915000.0\n",
       "2     205000.0\n",
       "3     314000.0\n",
       "4     496000.0\n",
       "...        ...\n",
       "5032  360000.0\n",
       "5033  400000.0\n",
       "5034  402101.0\n",
       "5035  400000.0\n",
       "5036  325000.0\n",
       "\n",
       "[5037 rows x 1 columns]"
      ]
     },
     "execution_count": 19,
     "metadata": {},
     "output_type": "execute_result"
    }
   ],
   "source": [
    "y_test = y_test.reset_index()\n",
    "y_test = y_test.drop(['index'],axis=1)\n",
    "y_test"
   ]
  },
  {
   "cell_type": "code",
   "execution_count": 20,
   "metadata": {},
   "outputs": [
    {
     "data": {
      "text/plain": [
       "array([[371016.22],\n",
       "       [371082.88],\n",
       "       [244556.75],\n",
       "       ...,\n",
       "       [252503.4 ],\n",
       "       [402820.66],\n",
       "       [257734.22]], dtype=float32)"
      ]
     },
     "execution_count": 20,
     "metadata": {},
     "output_type": "execute_result"
    }
   ],
   "source": [
    "prediction"
   ]
  },
  {
   "cell_type": "code",
   "execution_count": 29,
   "metadata": {},
   "outputs": [
    {
     "data": {
      "text/plain": [
       "<matplotlib.legend.Legend at 0x191d4e3ef10>"
      ]
     },
     "execution_count": 29,
     "metadata": {},
     "output_type": "execute_result"
    },
    {
     "data": {
      "image/png": "[encoded data removed]",
      "text/plain": [
       "<Figure size 432x288 with 1 Axes>"
      ]
     },
     "metadata": {
      "needs_background": "light"
     },
     "output_type": "display_data"
    }
   ],
   "source": [
    "import matplotlib.pyplot as plt\n",
    "plt.plot(y_test,label='test data')\n",
    "plt.plot(prediction,label='prediction')\n",
    "plt.legend()"
   ]
  },
  {
   "cell_type": "code",
   "execution_count": 22,
   "metadata": {},
   "outputs": [
    {
     "data": {
      "text/plain": [
       "Text(0, 0.5, 'Prediction')"
      ]
     },
     "execution_count": 22,
     "metadata": {},
     "output_type": "execute_result"
    },
    {
     "data": {
      "image/png": "[encoded data removed]",
      "text/plain": [
       "<Figure size 432x288 with 1 Axes>"
      ]
     },
     "metadata": {
      "needs_background": "light"
     },
     "output_type": "display_data"
    }
   ],
   "source": [
    "plt.scatter(y_test,prediction)\n",
    "plt.xlabel('Real Data')\n",
    "plt.ylabel('Prediction')"
   ]
  },
  {
   "cell_type": "code",
   "execution_count": 23,
   "metadata": {},
   "outputs": [
    {
     "data": {
      "text/plain": [
       "price    0.021092\n",
       "dtype: float64"
      ]
     },
     "execution_count": 23,
     "metadata": {},
     "output_type": "execute_result"
    }
   ],
   "source": [
    "error = (prediction-y_test)/y_test\n",
    "error.mean()"
   ]
  },
  {
   "cell_type": "code",
   "execution_count": 32,
   "metadata": {},
   "outputs": [
    {
     "data": {
      "text/plain": [
       "<AxesSubplot:>"
      ]
     },
     "execution_count": 32,
     "metadata": {},
     "output_type": "execute_result"
    },
    {
     "data": {
      "image/png": "[encoded data removed]",
      "text/plain": [
       "<Figure size 432x288 with 1 Axes>"
      ]
     },
     "metadata": {
      "needs_background": "light"
     },
     "output_type": "display_data"
    }
   ],
   "source": [
    "error.plot()"
   ]
  }
 ],
 "metadata": {
  "kernelspec": {
   "display_name": "Python 3",
   "language": "python",
   "name": "python3"
  },
  "language_info": {
   "codemirror_mode": {
    "name": "ipython",
    "version": 3
   },
   "file_extension": ".py",
   "mimetype": "text/x-python",
   "name": "python",
   "nbconvert_exporter": "python",
   "pygments_lexer": "ipython3",
   "version": "3.8.5"
  }
 },
 "nbformat": 4,
 "nbformat_minor": 4
}
